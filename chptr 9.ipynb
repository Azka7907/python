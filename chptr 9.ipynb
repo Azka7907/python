{
 "cells": [
  {
   "cell_type": "code",
   "execution_count": null,
   "id": "57669421",
   "metadata": {},
   "outputs": [],
   "source": [
    "counts = dict()\n",
    "print('enter a line of text')\n",
    "line = input('')\n",
    "words = line.split()\n",
    "print('words:', words)\n",
    "print('counting...')\n",
    "for word in words:\n",
    "    counts[word]=counts.get(words,0) + 1\n",
    "    print('counts', counts)"
   ]
  }
 ],
 "metadata": {
  "kernelspec": {
   "display_name": "Python 3 (ipykernel)",
   "language": "python",
   "name": "python3"
  },
  "language_info": {
   "codemirror_mode": {
    "name": "ipython",
    "version": 3
   },
   "file_extension": ".py",
   "mimetype": "text/x-python",
   "name": "python",
   "nbconvert_exporter": "python",
   "pygments_lexer": "ipython3",
   "version": "3.9.13"
  }
 },
 "nbformat": 4,
 "nbformat_minor": 5
}
