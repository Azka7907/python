{
 "cells": [
  {
   "cell_type": "code",
   "execution_count": 1,
   "id": "94bb6eb1",
   "metadata": {},
   "outputs": [
    {
     "name": "stdout",
     "output_type": "stream",
     "text": [
      "hello\n",
      "It can not convert the string into int\n",
      "123\n",
      "Its convert the string into the number\n"
     ]
    }
   ],
   "source": [
    "x='hello'\n",
    "print(x)\n",
    "try:\n",
    "    x=int(x)\n",
    "except:\n",
    "    print('It can not convert the string into int')\n",
    "y='123'\n",
    "print(y)\n",
    "try:\n",
    "    y=int(y)\n",
    "    print('Its convert the string into the number')\n",
    "except:\n",
    "    print('Its can not convert thes string')"
   ]
  },
  {
   "cell_type": "code",
   "execution_count": null,
   "id": "1d4e381f",
   "metadata": {},
   "outputs": [],
   "source": []
  }
 ],
 "metadata": {
  "kernelspec": {
   "display_name": "Python 3 (ipykernel)",
   "language": "python",
   "name": "python3"
  },
  "language_info": {
   "codemirror_mode": {
    "name": "ipython",
    "version": 3
   },
   "file_extension": ".py",
   "mimetype": "text/x-python",
   "name": "python",
   "nbconvert_exporter": "python",
   "pygments_lexer": "ipython3",
   "version": "3.9.13"
  }
 },
 "nbformat": 4,
 "nbformat_minor": 5
}
